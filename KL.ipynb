{
 "cells": [
  {
   "cell_type": "code",
   "execution_count": 1,
   "metadata": {},
   "outputs": [
    {
     "output_type": "stream",
     "name": "stdout",
     "text": "Import Success\nNumber of nodes: 13641738\n"
    }
   ],
   "source": [
    "import osmium\n",
    "import sys\n",
    "print(\"Import Success\")\n",
    "\n",
    "class CounterHandler(osmium.SimpleHandler):\n",
    "    def __init__(self):\n",
    "        osmium.SimpleHandler.__init__(self)\n",
    "        self.num_nodes = 0\n",
    "\n",
    "    def node(self, n):\n",
    "        self.num_nodes += 1\n",
    "\n",
    "if __name__ == '__main__':\n",
    "    \n",
    "    h = CounterHandler()\n",
    "\n",
    "    h.apply_file(\"VN.osm\")\n",
    "\n",
    "    print(\"Number of nodes: %d\" % h.num_nodes)"
   ]
  },
  {
   "cell_type": "code",
   "execution_count": null,
   "metadata": {},
   "outputs": [],
   "source": []
  }
 ],
 "metadata": {
  "language_info": {
   "codemirror_mode": {
    "name": "ipython",
    "version": 3
   },
   "file_extension": ".py",
   "mimetype": "text/x-python",
   "name": "python",
   "nbconvert_exporter": "python",
   "pygments_lexer": "ipython3",
   "version": "3.7.6-final"
  },
  "orig_nbformat": 2,
  "kernelspec": {
   "name": "python37664bitad629efe9adc42c29ffdbf2948d9a398",
   "display_name": "Python 3.7.6 64-bit"
  }
 },
 "nbformat": 4,
 "nbformat_minor": 2
}